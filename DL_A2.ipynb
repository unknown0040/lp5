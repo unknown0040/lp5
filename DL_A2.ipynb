{
 "cells": [
  {
   "cell_type": "code",
   "execution_count": null,
   "metadata": {
    "colab": {
     "base_uri": "https://localhost:8080/"
    },
    "id": "2BJkgmDtbtB8",
    "outputId": "47b07b07-48ee-411a-f7fa-c289cd338c4a"
   },
   "outputs": [],
   "source": [
    "import tensorflow as tf\n",
    "import matplotlib.pyplot as plt\n",
    "from tensorflow import keras\n",
    "import numpy as np\n",
    "(x_train, y_train), (x_test, y_test) = keras.datasets.fashion_mnist.load_data()"
   ]
  },
  {
   "cell_type": "code",
   "execution_count": null,
   "metadata": {
    "colab": {
     "base_uri": "https://localhost:8080/",
     "height": 447
    },
    "id": "GLThSxuibtB-",
    "outputId": "c66e3493-4110-4baf-c54a-f1ec8d2781ee"
   },
   "outputs": [],
   "source": [
    "plt.imshow(x_train[1])"
   ]
  },
  {
   "cell_type": "code",
   "execution_count": null,
   "metadata": {
    "colab": {
     "base_uri": "https://localhost:8080/",
     "height": 447
    },
    "id": "4HeQM53AbtCA",
    "outputId": "b0170c5a-aecc-45fa-f494-dbd9b83bedf3"
   },
   "outputs": [],
   "source": [
    "plt.imshow(x_train[0])"
   ]
  },
  {
   "cell_type": "code",
   "execution_count": null,
   "metadata": {
    "id": "P5s9W8IObtCA"
   },
   "outputs": [],
   "source": [
    "x_train = x_train.astype(\"float32\") / 255.0\n",
    "x_test = x_test.astype(\"float32\") / 255.0\n"
   ]
  },
  {
   "cell_type": "code",
   "execution_count": null,
   "metadata": {
    "id": "9X_A0jwQbtCB"
   },
   "outputs": [],
   "source": [
    "x_train = x_train.reshape(-1, 28, 28, 1)\n",
    "x_test = x_test.reshape(-1, 28, 28, 1)"
   ]
  },
  {
   "cell_type": "code",
   "execution_count": null,
   "metadata": {
    "id": "qx3QI3uebtCB"
   },
   "outputs": [],
   "source": [
    "model = keras.Sequential([keras.layers.Conv2D(32, (3,3), activation='relu', input_shape=(28,28,1)),\n",
    "                          keras.layers.MaxPooling2D((2,2)),\n",
    "                          keras.layers.Dropout(0.25),\n",
    "                          keras.layers.Conv2D(64, (3,3), activation='relu'),\n",
    "                          keras.layers.MaxPooling2D((2,2)),\n",
    "                          keras.layers.Dropout(0.25),\n",
    "                          keras.layers.Conv2D(128, (3,3), activation='relu'),\n",
    "                          keras.layers.Flatten(),\n",
    "                          keras.layers.Dense(128, activation='relu'),\n",
    "                          keras.layers.Dropout(0.25),\n",
    "                          keras.layers.Dense(10, activation='softmax')])\n",
    "\n"
   ]
  },
  {
   "cell_type": "code",
   "execution_count": null,
   "metadata": {
    "colab": {
     "base_uri": "https://localhost:8080/"
    },
    "id": "yCWiUffSbtCC",
    "outputId": "3ac784cf-2d93-4519-d03b-4a384f3a5c7f"
   },
   "outputs": [],
   "source": [
    "model.summary()"
   ]
  },
  {
   "cell_type": "code",
   "execution_count": null,
   "metadata": {
    "id": "aabsjz8GbtCC"
   },
   "outputs": [],
   "source": [
    "model.compile(optimizer=\"adam\", loss=\"sparse_categorical_crossentropy\", metrics=[\"accuracy\"])\n"
   ]
  },
  {
   "cell_type": "code",
   "execution_count": null,
   "metadata": {
    "colab": {
     "base_uri": "https://localhost:8080/"
    },
    "id": "ZhpKE9H8btCC",
    "outputId": "d98473ae-6264-44af-c1f1-57a1cc2f5fbd"
   },
   "outputs": [],
   "source": [
    "history = model.fit(x_train, y_train, epochs=10, validation_data=(x_test, y_test))"
   ]
  },
  {
   "cell_type": "code",
   "execution_count": null,
   "metadata": {
    "colab": {
     "base_uri": "https://localhost:8080/"
    },
    "id": "lGGELyeUbtCD",
    "outputId": "95837344-56c3-4f9f-e9fa-f979a9900f44"
   },
   "outputs": [],
   "source": [
    "model.save('final_model.h5')"
   ]
  },
  {
   "cell_type": "code",
   "execution_count": null,
   "metadata": {
    "colab": {
     "base_uri": "https://localhost:8080/"
    },
    "id": "ELNhLNykbtCD",
    "outputId": "1511cda2-cf59-4b5e-a65f-35008330bc32"
   },
   "outputs": [],
   "source": [
    "predictions = np.argmax(model.predict(x_test),axis=1)"
   ]
  },
  {
   "cell_type": "code",
   "execution_count": null,
   "metadata": {
    "colab": {
     "base_uri": "https://localhost:8080/"
    },
    "id": "nLBqVOCMbtCE",
    "outputId": "e7df9613-b06c-41e9-b278-0b914f376ef7"
   },
   "outputs": [],
   "source": [
    "test_loss, test_acc = model.evaluate(x_test, y_test)\n",
    "print(\"Test accuracy\", test_acc)"
   ]
  },
  {
   "cell_type": "code",
   "execution_count": null,
   "metadata": {
    "colab": {
     "base_uri": "https://localhost:8080/"
    },
    "id": "lowmQLUrbtCE",
    "outputId": "621756ec-8caf-4a38-bf8d-c5d6952acbdc"
   },
   "outputs": [],
   "source": [
    "from keras.preprocessing.image import load_img\n",
    "from keras.preprocessing.image import img_to_array\n",
    "from keras.models import load_model\n",
    "import numpy as np\n",
    "\n",
    "# Label names dictionary\n",
    "label_names = {\n",
    "    0: 'T-shirt/top',\n",
    "    1: 'Trouser',\n",
    "    2: 'Pullover',\n",
    "    3: 'Dress',\n",
    "    4: 'Coat',\n",
    "    5: 'Sandal',\n",
    "    6: 'Shirt',\n",
    "    7: 'Sneaker',\n",
    "    8: 'Bag',\n",
    "    9: 'Ankle boot'\n",
    "}\n",
    "\n",
    "# Load and prepare the image\n",
    "def load_image(filename):\n",
    "    # Load the image\n",
    "    img = load_img(filename, grayscale=True, target_size=(28, 28))\n",
    "    # Convert to array\n",
    "    img = img_to_array(img)\n",
    "    # Reshape into a single sample with 1 channel\n",
    "    img = img.reshape(1, 28, 28, 1)\n",
    "    # Prepare pixel data\n",
    "    img = img.astype('float32')\n",
    "    img = img / 255.0\n",
    "    return img\n",
    "\n",
    "# Load an image and predict the class\n",
    "def run_example():\n",
    "    # Load the image\n",
    "    img = load_image('bag.jpeg')  # Change 'bag.jpg' to your image file path\n",
    "    # Load model\n",
    "    model = load_model('final_model.h5')  # Change 'final_model.h5' to your model file path\n",
    "    # Predict the class\n",
    "    predicted_label = np.argmax(model.predict(img), axis=1)\n",
    "    predicted_label_name = label_names[predicted_label[0]]  # Map predicted label to label name\n",
    "    print(\"Predicted Label:\", predicted_label[0])\n",
    "    print(\"Predicted Label Name:\", predicted_label_name)\n",
    "\n",
    "run_example()\n"
   ]
  },
  {
   "cell_type": "code",
   "execution_count": null,
   "metadata": {
    "colab": {
     "base_uri": "https://localhost:8080/",
     "height": 286
    },
    "id": "_jpTGXj_btCF",
    "outputId": "f3d2aeb5-ca94-4290-f778-e39f3ba9f42a"
   },
   "outputs": [],
   "source": [
    "from IPython.display import display, Image\n",
    "display(Image(filename='bag.jpeg'))"
   ]
  },
  {
   "cell_type": "code",
   "execution_count": null,
   "metadata": {
    "colab": {
     "base_uri": "https://localhost:8080/"
    },
    "id": "Sjayy1kmgcrF",
    "outputId": "45f9ddae-804c-447d-a4e8-7ce0b53483a2"
   },
   "outputs": [],
   "source": [
    "from keras.preprocessing.image import load_img\n",
    "from keras.preprocessing.image import img_to_array\n",
    "from keras.models import load_model\n",
    "import numpy as np\n",
    "\n",
    "# Label names dictionary\n",
    "label_names = {\n",
    "    0: 'T-shirt/top',\n",
    "    1: 'Trouser',\n",
    "    2: 'Pullover',\n",
    "    3: 'Dress',\n",
    "    4: 'Coat',\n",
    "    5: 'Sandal',\n",
    "    6: 'Shirt',\n",
    "    7: 'Sneaker',\n",
    "    8: 'Bag',\n",
    "    9: 'Ankle boot'\n",
    "}\n",
    "\n",
    "# Load and prepare the image\n",
    "def load_image(filename):\n",
    "    # Load the image\n",
    "    img = load_img(filename, grayscale=True, target_size=(28, 28))\n",
    "    # Convert to array\n",
    "    img = img_to_array(img)\n",
    "    # Reshape into a single sample with 1 channel\n",
    "    img = img.reshape(1, 28, 28, 1)\n",
    "    # Prepare pixel data\n",
    "    img = img.astype('float32')\n",
    "    img = img / 255.0\n",
    "    return img\n",
    "\n",
    "# Load an image and predict the class\n",
    "def run_example():\n",
    "    # Load the image\n",
    "    img = load_image('shirt.jpeg')  # Change 'bag.jpg' to your image file path\n",
    "    # Load model\n",
    "    model = load_model('final_model.h5')  # Change 'final_model.h5' to your model file path\n",
    "    # Predict the class\n",
    "    predicted_label = np.argmax(model.predict(img), axis=1)\n",
    "    predicted_label_name = label_names[predicted_label[0]]  # Map predicted label to label name\n",
    "    print(\"Predicted Label:\", predicted_label[0])\n",
    "    print(\"Predicted Label Name:\", predicted_label_name)\n",
    "\n",
    "run_example()\n"
   ]
  },
  {
   "cell_type": "code",
   "execution_count": null,
   "metadata": {
    "colab": {
     "base_uri": "https://localhost:8080/",
     "height": 242
    },
    "id": "8Ewk2-jshZJP",
    "outputId": "33411d8d-baf8-4099-e6c7-69e6f4fa179a"
   },
   "outputs": [],
   "source": [
    "display(Image(filename='shirt.jpeg'))"
   ]
  }
 ],
 "metadata": {
  "colab": {
   "provenance": []
  },
  "kernelspec": {
   "display_name": "Python 3 (ipykernel)",
   "language": "python",
   "name": "python3"
  },
  "language_info": {
   "codemirror_mode": {
    "name": "ipython",
    "version": 3
   },
   "file_extension": ".py",
   "mimetype": "text/x-python",
   "name": "python",
   "nbconvert_exporter": "python",
   "pygments_lexer": "ipython3",
   "version": "3.11.3"
  }
 },
 "nbformat": 4,
 "nbformat_minor": 4
}
