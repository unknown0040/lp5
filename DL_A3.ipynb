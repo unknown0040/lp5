{
 "cells": [
  {
   "cell_type": "code",
   "execution_count": null,
   "metadata": {
    "id": "nPJfEXmLDozK"
   },
   "outputs": [],
   "source": [
    "#Importing all required libraries"
   ]
  },
  {
   "cell_type": "code",
   "execution_count": null,
   "metadata": {
    "id": "BMajSmB7-CGq"
   },
   "outputs": [],
   "source": [
    "import pandas as pd\n",
    "import numpy as np\n",
    "from sklearn.preprocessing import MinMaxScaler"
   ]
  },
  {
   "cell_type": "code",
   "execution_count": null,
   "metadata": {
    "id": "Ewdkc7yzDsYI"
   },
   "outputs": [],
   "source": [
    "#using tensorflow framework for text classification"
   ]
  },
  {
   "cell_type": "code",
   "execution_count": null,
   "metadata": {
    "id": "S-ZqXUz9-HIe"
   },
   "outputs": [],
   "source": [
    "import tensorflow\n",
    "from tensorflow import keras\n",
    "from tensorflow.keras import Sequential\n",
    "from tensorflow.keras.layers import Flatten,Dense, MaxPool2D\n",
    "from tensorflow.keras.callbacks import EarlyStopping"
   ]
  },
  {
   "cell_type": "code",
   "execution_count": null,
   "metadata": {
    "id": "aHnBSh0K_pIe"
   },
   "outputs": [],
   "source": [
    "import matplotlib.pyplot as plt"
   ]
  },
  {
   "cell_type": "code",
   "execution_count": null,
   "metadata": {
    "id": "MlC0b0rGDztV"
   },
   "outputs": [],
   "source": [
    "# Loading mnist data\n",
    "# Spliting the data into training and testing data"
   ]
  },
  {
   "cell_type": "code",
   "execution_count": null,
   "metadata": {
    "colab": {
     "base_uri": "https://localhost:8080/"
    },
    "id": "_RRAJ7QW-LGq",
    "outputId": "f4fb4201-866a-4252-f932-30edbf8e3795"
   },
   "outputs": [],
   "source": [
    "(x_train, y_train),(x_test, y_test)=keras.datasets.mnist.load_data()"
   ]
  },
  {
   "cell_type": "code",
   "execution_count": null,
   "metadata": {
    "colab": {
     "base_uri": "https://localhost:8080/"
    },
    "id": "R8BQnQgb-71t",
    "outputId": "2f48193d-1c4f-4ca2-f537-97ac127bf89a"
   },
   "outputs": [],
   "source": [
    "x_train.shape"
   ]
  },
  {
   "cell_type": "code",
   "execution_count": null,
   "metadata": {
    "colab": {
     "base_uri": "https://localhost:8080/"
    },
    "id": "Bt5ZUj5l_Pf3",
    "outputId": "808bde9b-3c0f-4184-82cc-d0d48a6c3523"
   },
   "outputs": [],
   "source": [
    "x_test.shape"
   ]
  },
  {
   "cell_type": "code",
   "execution_count": null,
   "metadata": {
    "id": "3oIlgJT4D8A1"
   },
   "outputs": [],
   "source": [
    "#using matplotlib.pyplot for visualization of x_train[0]\n",
    "# and checking the corresponding target value in y_train"
   ]
  },
  {
   "cell_type": "code",
   "execution_count": null,
   "metadata": {
    "colab": {
     "base_uri": "https://localhost:8080/",
     "height": 447
    },
    "id": "s3g0bYyk_UBt",
    "outputId": "b73d5087-b13a-47b6-f61e-236403f8aec8"
   },
   "outputs": [],
   "source": [
    "plt.imshow(x_train[0])\n",
    "y_train[0]"
   ]
  },
  {
   "cell_type": "code",
   "execution_count": null,
   "metadata": {
    "id": "pFX5PeiUETM0"
   },
   "outputs": [],
   "source": [
    "# Each image is 2D array of size (1,28,28) ie 28 rows and 28 fetures(columns)"
   ]
  },
  {
   "cell_type": "code",
   "execution_count": null,
   "metadata": {
    "colab": {
     "base_uri": "https://localhost:8080/"
    },
    "id": "NxHlqUIY_f66",
    "outputId": "d28f2c2f-4bd5-4e5b-b2ec-cd3dba21decc"
   },
   "outputs": [],
   "source": [
    "x_train[0]"
   ]
  },
  {
   "cell_type": "code",
   "execution_count": null,
   "metadata": {
    "id": "jJVgbUPzEkEo"
   },
   "outputs": [],
   "source": [
    "# As image pixel ranges from 0 to 255 we need to scale it between 0 to 1"
   ]
  },
  {
   "cell_type": "code",
   "execution_count": null,
   "metadata": {
    "id": "Ta3Fg_hf_9xt"
   },
   "outputs": [],
   "source": [
    "x_train_sc = x_train/255\n",
    "x_test_sc= x_test/255"
   ]
  },
  {
   "cell_type": "code",
   "execution_count": null,
   "metadata": {
    "colab": {
     "base_uri": "https://localhost:8080/"
    },
    "id": "6kb2XT9FAcnl",
    "outputId": "99125053-f450-468c-970c-84c90d37d537"
   },
   "outputs": [],
   "source": [
    "x_train_sc[0]"
   ]
  },
  {
   "cell_type": "code",
   "execution_count": null,
   "metadata": {
    "id": "QVEUndrmAere"
   },
   "outputs": [],
   "source": [
    "#Create a Sequential Model.\n",
    "# impage is first flattened to make the multidimensional input one-dimensional\n",
    "# Using relu as activation in hidden layers\n",
    "# as this is multiclassification problem, I have used softmax as activation function in output layer.\n",
    "\n",
    "model= Sequential()\n",
    "model.add(Flatten(input_shape=(28,28)))\n",
    "model.add(Dense(128, activation=\"relu\"))\n",
    "model.add(Dense(10, activation=\"softmax\"))"
   ]
  },
  {
   "cell_type": "code",
   "execution_count": null,
   "metadata": {
    "id": "H5B35hT0A4qy"
   },
   "outputs": [],
   "source": [
    "#Created model layers look like this."
   ]
  },
  {
   "cell_type": "code",
   "execution_count": null,
   "metadata": {
    "colab": {
     "base_uri": "https://localhost:8080/"
    },
    "id": "CfJcpr5WBcCk",
    "outputId": "4c3b63ce-6b8c-4882-fb15-be8a822ea381"
   },
   "outputs": [],
   "source": [
    "model.summary()"
   ]
  },
  {
   "cell_type": "code",
   "execution_count": null,
   "metadata": {
    "id": "RPrsLPTPHQqY"
   },
   "outputs": [],
   "source": [
    "#compiled model using \n",
    "#optimizer as adam\n",
    "#loss as sparse_categorical_crossentropy as there are multiple classes.\n",
    "#Evaluation metrics as accuracy"
   ]
  },
  {
   "cell_type": "code",
   "execution_count": null,
   "metadata": {
    "id": "8MKw_7pbBeY0"
   },
   "outputs": [],
   "source": [
    "model.compile(\n",
    "    optimizer=\"adam\",\n",
    "    loss=\"sparse_categorical_crossentropy\",\n",
    "    metrics= [\"accuracy\"]\n",
    ")"
   ]
  },
  {
   "cell_type": "code",
   "execution_count": null,
   "metadata": {
    "id": "SOR0uZRWHZeY"
   },
   "outputs": [],
   "source": [
    "# This is last step of model building in which we fit training data an also pass the test data for validation(loss on test data will be evaluated simultaniously)\n",
    "# As batch size passed is 50, this is example of mini batch stochastic gradient  descent\n",
    "#Early stoppage is passed in callbacks to avoid over fitting"
   ]
  },
  {
   "cell_type": "code",
   "execution_count": null,
   "metadata": {
    "id": "O6YdRW-Df77A"
   },
   "outputs": [],
   "source": [
    "es= EarlyStopping(monitor=\"val_loss\", patience=4)"
   ]
  },
  {
   "cell_type": "code",
   "execution_count": null,
   "metadata": {
    "colab": {
     "base_uri": "https://localhost:8080/"
    },
    "id": "yT2wH-NKCaRL",
    "outputId": "bd19caaf-2e02-46bc-8906-9f3556b5e9ea"
   },
   "outputs": [],
   "source": [
    "history= model.fit(\n",
    "    x_train_sc, \n",
    "    y_train,\n",
    "    verbose= 1,\n",
    "    batch_size=100,\n",
    "    epochs=5,\n",
    "    validation_data=(x_test_sc,y_test),\n",
    "    callbacks= [es]\n",
    "\n",
    "                   )"
   ]
  },
  {
   "cell_type": "code",
   "execution_count": null,
   "metadata": {
    "id": "kIsBcdaFHqya"
   },
   "outputs": [],
   "source": [
    "#As seen above accuracy score on training data is 98.05% and on test data is 97.09%\n",
    "# results are good and can be considered for deployment\n",
    "# Evaluation is done on test data as follows"
   ]
  },
  {
   "cell_type": "code",
   "execution_count": null,
   "metadata": {
    "colab": {
     "base_uri": "https://localhost:8080/"
    },
    "id": "VMvns191De4Q",
    "outputId": "d49b6503-636a-4b52-bcbd-f69a283ffad1"
   },
   "outputs": [],
   "source": [
    "model.evaluate(x_test_sc, y_test)"
   ]
  },
  {
   "cell_type": "code",
   "execution_count": null,
   "metadata": {
    "id": "pwKNWg6ZH4IN"
   },
   "outputs": [],
   "source": [
    "# Prediction on testing data is done as follows"
   ]
  },
  {
   "cell_type": "code",
   "execution_count": null,
   "metadata": {
    "colab": {
     "base_uri": "https://localhost:8080/"
    },
    "id": "imfZQKMgEXe8",
    "outputId": "5929f6d3-9927-4e80-985e-5f03ba677b84"
   },
   "outputs": [],
   "source": [
    "model.predict(x_test_sc)"
   ]
  },
  {
   "cell_type": "code",
   "execution_count": null,
   "metadata": {
    "id": "lL3wX3VKIcZ0"
   },
   "outputs": [],
   "source": [
    "# Plotting graph between training loss and testing loss through all iterations"
   ]
  },
  {
   "cell_type": "code",
   "execution_count": null,
   "metadata": {
    "colab": {
     "base_uri": "https://localhost:8080/",
     "height": 447
    },
    "id": "FhLSiLuVE7PP",
    "outputId": "f3741f55-edc8-479b-a9b2-ebc2ed04b49b"
   },
   "outputs": [],
   "source": [
    "plt.plot(history.history[\"loss\"], label=\"loss\")\n",
    "plt.plot(history.history[\"val_loss\"], label=\"val_loss\")\n",
    "plt.legend()"
   ]
  },
  {
   "cell_type": "code",
   "execution_count": null,
   "metadata": {
    "id": "1EAu7wryIhpp"
   },
   "outputs": [],
   "source": [
    "# Plotting graph between training accuracy and testing accuracy through all iterations"
   ]
  },
  {
   "cell_type": "code",
   "execution_count": null,
   "metadata": {
    "colab": {
     "base_uri": "https://localhost:8080/",
     "height": 447
    },
    "id": "dx9-NCe_Is6h",
    "outputId": "024eade3-d29c-4f73-d8b6-6a082fe83819"
   },
   "outputs": [],
   "source": [
    "plt.plot(history.history[\"accuracy\"], label=\"accuracy\")\n",
    "plt.plot(history.history[\"val_accuracy\"], label=\"val_accuracy\")\n",
    "plt.legend()"
   ]
  },
  {
   "cell_type": "code",
   "execution_count": null,
   "metadata": {
    "id": "BEzu0zV4KST3"
   },
   "outputs": [],
   "source": []
  }
 ],
 "metadata": {
  "colab": {
   "provenance": []
  },
  "kernelspec": {
   "display_name": "Python 3 (ipykernel)",
   "language": "python",
   "name": "python3"
  },
  "language_info": {
   "codemirror_mode": {
    "name": "ipython",
    "version": 3
   },
   "file_extension": ".py",
   "mimetype": "text/x-python",
   "name": "python",
   "nbconvert_exporter": "python",
   "pygments_lexer": "ipython3",
   "version": "3.11.3"
  }
 },
 "nbformat": 4,
 "nbformat_minor": 4
}
