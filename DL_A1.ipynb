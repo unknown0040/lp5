{
 "cells": [
  {
   "cell_type": "code",
   "execution_count": null,
   "metadata": {
    "id": "NwcENUehsvYm"
   },
   "outputs": [],
   "source": [
    "import pandas as pd\n",
    "from sklearn.metrics import classification_report"
   ]
  },
  {
   "cell_type": "code",
   "execution_count": null,
   "metadata": {
    "id": "iMA8ozLkP-cX"
   },
   "outputs": [],
   "source": [
    "df = pd.read_csv(\"BostonHousing.csv\")"
   ]
  },
  {
   "cell_type": "code",
   "execution_count": null,
   "metadata": {
    "colab": {
     "base_uri": "https://localhost:8080/"
    },
    "id": "MCsn-6AXP-cX",
    "outputId": "e3d511ea-b293-473c-9d89-f340e6261ea9"
   },
   "outputs": [],
   "source": [
    "print(df.head(5))"
   ]
  },
  {
   "cell_type": "code",
   "execution_count": null,
   "metadata": {
    "colab": {
     "base_uri": "https://localhost:8080/",
     "height": 657
    },
    "id": "iBOBrWLCP-cZ",
    "outputId": "2b21f09a-f5d5-4ea6-e367-cce53c1f08dc"
   },
   "outputs": [],
   "source": [
    "import seaborn as sns\n",
    "sns.distplot(df.medv)"
   ]
  },
  {
   "cell_type": "code",
   "execution_count": null,
   "metadata": {
    "colab": {
     "base_uri": "https://localhost:8080/",
     "height": 657
    },
    "id": "iBOBrWLCP-cZ",
    "outputId": "2b21f09a-f5d5-4ea6-e367-cce53c1f08dc"
   },
   "outputs": [],
   "source": [
    "import seaborn as sns\n",
    "import matplotlib.pyplot as plt\n",
    "sns.histplot(df['medv'], kde=True)\n",
    "plt.show()"
   ]
  },
  {
   "cell_type": "code",
   "execution_count": null,
   "metadata": {
    "colab": {
     "base_uri": "https://localhost:8080/",
     "height": 428
    },
    "id": "DuTl9g_JP-ca",
    "outputId": "da06784e-c091-47b4-c60c-604cb72e3519"
   },
   "outputs": [],
   "source": [
    "sns.boxplot(df.medv)"
   ]
  },
  {
   "cell_type": "code",
   "execution_count": null,
   "metadata": {
    "colab": {
     "base_uri": "https://localhost:8080/",
     "height": 1000
    },
    "id": "vUlkJyv6P-ca",
    "outputId": "8bc0f9b0-b593-4112-e7f0-588c46682582"
   },
   "outputs": [],
   "source": [
    "correlation = df.corr()\n",
    "print(df.corr())\n",
    "correlation.loc['medv']\n",
    "fig,axes = plt.subplots(figsize=(15,12))\n",
    "sns.heatmap(correlation,square = True,annot = True)"
   ]
  },
  {
   "cell_type": "code",
   "execution_count": null,
   "metadata": {
    "colab": {
     "base_uri": "https://localhost:8080/",
     "height": 341
    },
    "id": "F-lcJM_UP-cb",
    "outputId": "8722e08e-e291-4802-f613-ea11bc03c9a2"
   },
   "outputs": [],
   "source": [
    "plt.figure(figsize=(20, 5))\n",
    "features = ['lstat', 'rm', 'ptratio']\n",
    "\n",
    "for i, col in enumerate(features):\n",
    "    plt.subplot(1, len(features), i + 1)\n",
    "    x = df[col]\n",
    "    y = df.medv\n",
    "    plt.scatter(x, y, marker='o')\n",
    "    plt.title(\"Variation in House prices\")\n",
    "    plt.xlabel(col)\n",
    "    plt.ylabel(\"House prices in $1000\")\n"
   ]
  },
  {
   "cell_type": "code",
   "execution_count": null,
   "metadata": {
    "id": "4FEDjg8rsyi0"
   },
   "outputs": [],
   "source": [
    "from sklearn.model_selection import train_test_split\n",
    "X = df.loc[:, df.columns != 'medv']\n",
    "y = df.loc[:, df.columns == 'medv']\n",
    "X_train, X_test, y_train, y_test = train_test_split(X, y, test_size=0.2, random_state=42)"
   ]
  },
  {
   "cell_type": "code",
   "execution_count": null,
   "metadata": {
    "id": "NAeR_G3kP-cc"
   },
   "outputs": [],
   "source": [
    "from sklearn.preprocessing import MinMaxScaler\n",
    "mms = MinMaxScaler()\n",
    "mms.fit(X_train)\n",
    "X_train = mms.transform(X_train)\n",
    "X_test = mms.transform(X_test)"
   ]
  },
  {
   "cell_type": "code",
   "execution_count": null,
   "metadata": {
    "colab": {
     "base_uri": "https://localhost:8080/"
    },
    "id": "VL8VMy_fs3fl",
    "outputId": "1b942566-8542-4f80-ce5f-6bf6720553d8"
   },
   "outputs": [],
   "source": [
    "from tensorflow.keras.models import Sequential\n",
    "from tensorflow.keras.layers import Dense\n",
    "\n",
    "model = Sequential()\n",
    "\n",
    "model.add(Dense(128, input_shape=(13, ), activation='relu', name='dense_1'))\n",
    "model.add(Dense(64, activation='relu', name='dense_2'))\n",
    "model.add(Dense(32, activation='relu', name='dense_3'))\n",
    "model.add(Dense(16, activation='relu', name='dense_4'))\n",
    "model.add(Dense(8, activation='relu', name='dense_5'))\n",
    "model.add(Dense(1, activation='linear', name='dense_output'))\n",
    "\n",
    "# Compile\n",
    "model.compile(optimizer='adam', loss='mse', metrics=['mae'])\n",
    "model.summary()"
   ]
  },
  {
   "cell_type": "code",
   "execution_count": null,
   "metadata": {
    "colab": {
     "base_uri": "https://localhost:8080/"
    },
    "id": "uq0ogjcd8xDM",
    "outputId": "8c81c87f-800d-4d6f-b1a9-2be6460dd0aa"
   },
   "outputs": [],
   "source": [
    "X_train"
   ]
  },
  {
   "cell_type": "code",
   "execution_count": null,
   "metadata": {
    "colab": {
     "base_uri": "https://localhost:8080/"
    },
    "id": "Bytu6MnR69qd",
    "outputId": "b44ede0f-8f6d-4cec-87c0-277c843f1bb9"
   },
   "outputs": [],
   "source": [
    "X_train = X_train[:, :13]\n",
    "X_test = X_test[:, :13]\n",
    "X_train.shape"
   ]
  },
  {
   "cell_type": "code",
   "execution_count": null,
   "metadata": {
    "colab": {
     "base_uri": "https://localhost:8080/"
    },
    "id": "Y7m71ooKs5of",
    "outputId": "2c57c563-4f28-4a25-9a2f-3b937784ac0e"
   },
   "outputs": [],
   "source": [
    "history = model.fit(X_train, y_train, epochs=100, validation_split=0.05, verbose = 1)"
   ]
  },
  {
   "cell_type": "code",
   "execution_count": null,
   "metadata": {
    "colab": {
     "base_uri": "https://localhost:8080/"
    },
    "id": "5W_SjskAP-ce",
    "outputId": "f0e3af3d-877f-4762-9783-0bff4a12334b"
   },
   "outputs": [],
   "source": [
    "y_pred = model.predict(X_test)\n",
    "mse_nn, mae_nn = model.evaluate(X_test, y_test)\n",
    "\n",
    "\n",
    "print('Mean squared error on test data (Neural Network): ', mse_nn)\n",
    "print('Mean absolute error on test data (Neural Network): ', mae_nn)\n"
   ]
  },
  {
   "cell_type": "code",
   "execution_count": null,
   "metadata": {
    "colab": {
     "base_uri": "https://localhost:8080/",
     "height": 517
    },
    "id": "RmaZiqsDP-ce",
    "outputId": "14040cf8-a980-4873-baa2-40da1b6a850b"
   },
   "outputs": [],
   "source": [
    "from plotly.subplots import make_subplots\n",
    "import plotly.graph_objects as go\n",
    "\n",
    "fig = go.Figure()\n",
    "\n",
    "fig.add_trace(go.Scattergl(y=history.history['loss'], name='Train'))\n",
    "fig.add_trace(go.Scattergl(y=history.history['val_loss'], name='Valid'))\n",
    "\n",
    "fig.update_layout(height=500, width=700, xaxis_title='Epoch', yaxis_title='Loss')\n",
    "\n",
    "fig.show()\n"
   ]
  },
  {
   "cell_type": "code",
   "execution_count": null,
   "metadata": {
    "colab": {
     "base_uri": "https://localhost:8080/",
     "height": 517
    },
    "id": "lXAaQ7_XP-cf",
    "outputId": "b792e72f-8318-4723-f0f7-5da14eb5c541"
   },
   "outputs": [],
   "source": [
    "from plotly.subplots import make_subplots\n",
    "import plotly.graph_objects as go\n",
    "\n",
    "fig = go.Figure()\n",
    "\n",
    "fig.add_trace(go.Scattergl(y=history.history['mae'], name='Train'))\n",
    "fig.add_trace(go.Scattergl(y=history.history['val_mae'], name='Valid'))\n",
    "\n",
    "fig.update_layout(height=500, width=700, xaxis_title='Epoch', yaxis_title='Mean Absolute Error')\n",
    "\n",
    "fig.show()\n"
   ]
  },
  {
   "cell_type": "code",
   "execution_count": null,
   "metadata": {
    "colab": {
     "base_uri": "https://localhost:8080/"
    },
    "id": "BNBtRNdjP-cf",
    "outputId": "a0f73ef4-7cac-40e4-d10a-3852a5699a7c"
   },
   "outputs": [],
   "source": [
    "from sklearn.metrics import r2_score\n",
    "r2 = r2_score(y_test, y_pred)\n",
    "print(r2)"
   ]
  },
  {
   "cell_type": "code",
   "execution_count": null,
   "metadata": {
    "colab": {
     "base_uri": "https://localhost:8080/"
    },
    "id": "lTey2VMqP-cf",
    "outputId": "ecf3f9a2-2519-4f28-ca1a-9433643706c5"
   },
   "outputs": [],
   "source": [
    "import sklearn\n",
    "new_data = sklearn.preprocessing.StandardScaler().fit_transform(([[0.1, 10.0, 5.0, 0, 0.4, 6.0, 50, 6.0, 1, 400, 20, 300, 10]]))\n",
    "prediction = model.predict(new_data)\n",
    "print(\"Predicted house price:\", prediction)"
   ]
  },
  {
   "cell_type": "code",
   "execution_count": null,
   "metadata": {
    "id": "UiXPE8j7P-cf"
   },
   "outputs": [],
   "source": [
    "import numpy as np\n",
    "import pandas as pd\n",
    "import matplotlib.pyplot as plt\n",
    "\n",
    "y_pred = np.asarray(y_pred).astype(float)\n",
    "y_test = np.asarray(y_test).astype(float)\n",
    "\n",
    "plt.figure(figsize=(10, 10))\n",
    "plt.scatter(y_test, y_pred, c='green')\n",
    "\n",
    "p1 = max(np.max(y_pred), np.max(y_test))\n",
    "p2 = min(np.min(y_pred), np.min(y_test))\n",
    "\n",
    "plt.plot([p1, p2], [p1, p2], 'b-')\n",
    "\n",
    "plt.xlabel('True Values', fontsize=15)\n",
    "plt.ylabel('Predictions', fontsize=15)\n",
    "plt.axis('equal')\n",
    "plt.show()\n"
   ]
  },
  {
   "cell_type": "code",
   "execution_count": null,
   "metadata": {
    "id": "j_ZVg85KP-cf"
   },
   "outputs": [],
   "source": []
  }
 ],
 "metadata": {
  "colab": {
   "provenance": []
  },
  "kernelspec": {
   "display_name": "Python 3 (ipykernel)",
   "language": "python",
   "name": "python3"
  },
  "language_info": {
   "codemirror_mode": {
    "name": "ipython",
    "version": 3
   },
   "file_extension": ".py",
   "mimetype": "text/x-python",
   "name": "python",
   "nbconvert_exporter": "python",
   "pygments_lexer": "ipython3",
   "version": "3.11.3"
  }
 },
 "nbformat": 4,
 "nbformat_minor": 4
}
